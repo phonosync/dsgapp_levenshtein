{
 "cells": [
  {
   "cell_type": "code",
   "execution_count": 1,
   "id": "7ad3b0f1-d3d3-42f8-b8dd-2c18e8ffa224",
   "metadata": {},
   "outputs": [],
   "source": [
    "import numpy as np\n",
    "import pandas as pd\n",
    "import Levenshtein"
   ]
  },
  {
   "cell_type": "code",
   "execution_count": 2,
   "id": "685a97ad-8bb5-470e-aecb-af363de4e97d",
   "metadata": {},
   "outputs": [],
   "source": [
    "inp_file = 'grmpf.csv'"
   ]
  },
  {
   "cell_type": "code",
   "execution_count": 3,
   "id": "0d226bc7-94a5-4105-912a-a1a3e7b337b7",
   "metadata": {},
   "outputs": [],
   "source": [
    "header=0"
   ]
  },
  {
   "cell_type": "code",
   "execution_count": 12,
   "id": "b6c93af3-b55e-4a1d-939b-e66dd974487c",
   "metadata": {},
   "outputs": [],
   "source": [
    "df_inp = pd.read_csv(inp_file, delimiter=';', header=header)"
   ]
  },
  {
   "cell_type": "code",
   "execution_count": 48,
   "id": "5ad677ec-28ce-4763-acc4-e9a04bb28b71",
   "metadata": {},
   "outputs": [
    {
     "data": {
      "text/html": [
       "<div>\n",
       "<style scoped>\n",
       "    .dataframe tbody tr th:only-of-type {\n",
       "        vertical-align: middle;\n",
       "    }\n",
       "\n",
       "    .dataframe tbody tr th {\n",
       "        vertical-align: top;\n",
       "    }\n",
       "\n",
       "    .dataframe thead th {\n",
       "        text-align: right;\n",
       "    }\n",
       "</style>\n",
       "<table border=\"1\" class=\"dataframe\">\n",
       "  <thead>\n",
       "    <tr style=\"text-align: right;\">\n",
       "      <th></th>\n",
       "      <th>bla</th>\n",
       "      <th>blue</th>\n",
       "    </tr>\n",
       "  </thead>\n",
       "  <tbody>\n",
       "    <tr>\n",
       "      <th>0</th>\n",
       "      <td>levenshtein</td>\n",
       "      <td>lefenstein</td>\n",
       "    </tr>\n",
       "    <tr>\n",
       "      <th>1</th>\n",
       "      <td>distance</td>\n",
       "      <td>instance</td>\n",
       "    </tr>\n",
       "    <tr>\n",
       "      <th>2</th>\n",
       "      <td>again</td>\n",
       "      <td>NaN</td>\n",
       "    </tr>\n",
       "  </tbody>\n",
       "</table>\n",
       "</div>"
      ],
      "text/plain": [
       "           bla        blue\n",
       "0  levenshtein  lefenstein\n",
       "1     distance    instance\n",
       "2        again         NaN"
      ]
     },
     "execution_count": 48,
     "metadata": {},
     "output_type": "execute_result"
    }
   ],
   "source": [
    "df_inp"
   ]
  },
  {
   "cell_type": "code",
   "execution_count": 49,
   "id": "1ee30262-190d-4a6f-b639-57e3be4b2b2a",
   "metadata": {},
   "outputs": [
    {
     "data": {
      "text/plain": [
       "['lefenstein', 'instance', nan]"
      ]
     },
     "execution_count": 49,
     "metadata": {},
     "output_type": "execute_result"
    }
   ],
   "source": [
    "list(df_inp[df_inp.columns[1]].values)"
   ]
  },
  {
   "cell_type": "code",
   "execution_count": 55,
   "id": "3f2387ca-e84e-4d2a-ad35-72ad4e449e43",
   "metadata": {},
   "outputs": [
    {
     "data": {
      "text/plain": [
       "['lefenstein', 'instance']"
      ]
     },
     "execution_count": 55,
     "metadata": {},
     "output_type": "execute_result"
    }
   ],
   "source": [
    "list(df_inp[~df_inp[df_inp.columns[1]].isna()][df_inp.columns[1]].values)"
   ]
  },
  {
   "cell_type": "code",
   "execution_count": 46,
   "id": "ca3776c8-04b7-481c-8633-d7181632028d",
   "metadata": {},
   "outputs": [
    {
     "data": {
      "text/html": [
       "<div>\n",
       "<style scoped>\n",
       "    .dataframe tbody tr th:only-of-type {\n",
       "        vertical-align: middle;\n",
       "    }\n",
       "\n",
       "    .dataframe tbody tr th {\n",
       "        vertical-align: top;\n",
       "    }\n",
       "\n",
       "    .dataframe thead th {\n",
       "        text-align: right;\n",
       "    }\n",
       "</style>\n",
       "<table border=\"1\" class=\"dataframe\">\n",
       "  <thead>\n",
       "    <tr style=\"text-align: right;\">\n",
       "      <th></th>\n",
       "      <th>blue</th>\n",
       "    </tr>\n",
       "  </thead>\n",
       "  <tbody>\n",
       "    <tr>\n",
       "      <th>0</th>\n",
       "      <td>NaN</td>\n",
       "    </tr>\n",
       "    <tr>\n",
       "      <th>1</th>\n",
       "      <td>NaN</td>\n",
       "    </tr>\n",
       "    <tr>\n",
       "      <th>2</th>\n",
       "      <td>NaN</td>\n",
       "    </tr>\n",
       "  </tbody>\n",
       "</table>\n",
       "</div>"
      ],
      "text/plain": [
       "  blue\n",
       "0  NaN\n",
       "1  NaN\n",
       "2  NaN"
      ]
     },
     "execution_count": 46,
     "metadata": {},
     "output_type": "execute_result"
    }
   ],
   "source": [
    "df_inp[[df_inp.columns[1]]][df_inp[[df_inp.columns[1]]].isna()]"
   ]
  },
  {
   "cell_type": "code",
   "execution_count": 44,
   "id": "8834b271-29bd-4d11-b388-99e7fd082a69",
   "metadata": {},
   "outputs": [
    {
     "data": {
      "text/plain": [
       "['lefenstein', 'instance', nan]"
      ]
     },
     "execution_count": 44,
     "metadata": {},
     "output_type": "execute_result"
    }
   ],
   "source": [
    "list(df_inp[[df_inp.columns[1]]][~df_inp[[df_inp.columns[1]]].isna()][df_inp.columns[1]].values)"
   ]
  },
  {
   "cell_type": "code",
   "execution_count": 70,
   "id": "68784910-3c70-4209-b59b-5a8d2142d211",
   "metadata": {},
   "outputs": [
    {
     "name": "stdout",
     "output_type": "stream",
     "text": [
      "(3, 2)\n"
     ]
    }
   ],
   "source": [
    "bla = list(df_inp[~df_inp[df_inp.columns[0]].isna()][df_inp.columns[0]].values)\n",
    "\n",
    "blue = list(df_inp[~df_inp[df_inp.columns[1]].isna()][df_inp.columns[1]].values)\n",
    "\n",
    "a = np.zeros(shape=(len(bla),len(blue)), dtype=int)\n",
    "print(a.shape)\n",
    "df_dists = pd.DataFrame(data=a, index=bla, columns=blue)"
   ]
  },
  {
   "cell_type": "code",
   "execution_count": 71,
   "id": "0d8e8f30-4ae2-4697-843a-e0fcc0544d77",
   "metadata": {},
   "outputs": [
    {
     "data": {
      "text/html": [
       "<div>\n",
       "<style scoped>\n",
       "    .dataframe tbody tr th:only-of-type {\n",
       "        vertical-align: middle;\n",
       "    }\n",
       "\n",
       "    .dataframe tbody tr th {\n",
       "        vertical-align: top;\n",
       "    }\n",
       "\n",
       "    .dataframe thead th {\n",
       "        text-align: right;\n",
       "    }\n",
       "</style>\n",
       "<table border=\"1\" class=\"dataframe\">\n",
       "  <thead>\n",
       "    <tr style=\"text-align: right;\">\n",
       "      <th></th>\n",
       "      <th>lefenstein</th>\n",
       "      <th>instance</th>\n",
       "    </tr>\n",
       "  </thead>\n",
       "  <tbody>\n",
       "    <tr>\n",
       "      <th>levenshtein</th>\n",
       "      <td>0</td>\n",
       "      <td>0</td>\n",
       "    </tr>\n",
       "    <tr>\n",
       "      <th>distance</th>\n",
       "      <td>0</td>\n",
       "      <td>0</td>\n",
       "    </tr>\n",
       "    <tr>\n",
       "      <th>again</th>\n",
       "      <td>0</td>\n",
       "      <td>0</td>\n",
       "    </tr>\n",
       "  </tbody>\n",
       "</table>\n",
       "</div>"
      ],
      "text/plain": [
       "             lefenstein  instance\n",
       "levenshtein           0         0\n",
       "distance              0         0\n",
       "again                 0         0"
      ]
     },
     "execution_count": 71,
     "metadata": {},
     "output_type": "execute_result"
    }
   ],
   "source": [
    "df_dists"
   ]
  },
  {
   "cell_type": "code",
   "execution_count": 72,
   "id": "2dbf6926-08ee-492d-aea6-a8fe9abcc2ab",
   "metadata": {},
   "outputs": [
    {
     "name": "stdout",
     "output_type": "stream",
     "text": [
      "levenshtein\n",
      " lefenstein\n",
      " instance\n",
      "distance\n",
      " lefenstein\n",
      " instance\n",
      "again\n",
      " lefenstein\n",
      " instance\n"
     ]
    }
   ],
   "source": [
    "for row in df_dists.itertuples():\n",
    "    print(row.Index)\n",
    "    for s2 in df_dists.columns:\n",
    "        print(' '+s2)\n",
    "        df_dists.loc[row.Index][s2] = Levenshtein.distance(row.Index, s2, weights=(1,1,1), processor=None, score_cutoff=None)"
   ]
  },
  {
   "cell_type": "code",
   "execution_count": 73,
   "id": "734709d0-f1ae-4f81-a7ab-fefc85e58e4d",
   "metadata": {},
   "outputs": [
    {
     "data": {
      "text/html": [
       "<div>\n",
       "<style scoped>\n",
       "    .dataframe tbody tr th:only-of-type {\n",
       "        vertical-align: middle;\n",
       "    }\n",
       "\n",
       "    .dataframe tbody tr th {\n",
       "        vertical-align: top;\n",
       "    }\n",
       "\n",
       "    .dataframe thead th {\n",
       "        text-align: right;\n",
       "    }\n",
       "</style>\n",
       "<table border=\"1\" class=\"dataframe\">\n",
       "  <thead>\n",
       "    <tr style=\"text-align: right;\">\n",
       "      <th></th>\n",
       "      <th>lefenstein</th>\n",
       "      <th>instance</th>\n",
       "    </tr>\n",
       "  </thead>\n",
       "  <tbody>\n",
       "    <tr>\n",
       "      <th>levenshtein</th>\n",
       "      <td>2</td>\n",
       "      <td>9</td>\n",
       "    </tr>\n",
       "    <tr>\n",
       "      <th>distance</th>\n",
       "      <td>9</td>\n",
       "      <td>2</td>\n",
       "    </tr>\n",
       "    <tr>\n",
       "      <th>again</th>\n",
       "      <td>8</td>\n",
       "      <td>7</td>\n",
       "    </tr>\n",
       "  </tbody>\n",
       "</table>\n",
       "</div>"
      ],
      "text/plain": [
       "             lefenstein  instance\n",
       "levenshtein           2         9\n",
       "distance              9         2\n",
       "again                 8         7"
      ]
     },
     "execution_count": 73,
     "metadata": {},
     "output_type": "execute_result"
    }
   ],
   "source": [
    "df_dists"
   ]
  },
  {
   "cell_type": "code",
   "execution_count": 69,
   "id": "32a427cf-86e2-41a8-8390-fa09902545b5",
   "metadata": {},
   "outputs": [
    {
     "data": {
      "text/plain": [
       "array([[2., 9.],\n",
       "       [9., 2.],\n",
       "       [8., 7.]])"
      ]
     },
     "execution_count": 69,
     "metadata": {},
     "output_type": "execute_result"
    }
   ],
   "source": [
    "a"
   ]
  },
  {
   "cell_type": "code",
   "execution_count": null,
   "id": "a3f87f54-9448-41f9-9fdb-3495479a2894",
   "metadata": {},
   "outputs": [],
   "source": []
  }
 ],
 "metadata": {
  "kernelspec": {
   "display_name": "Python 3 (ipykernel)",
   "language": "python",
   "name": "python3"
  },
  "language_info": {
   "codemirror_mode": {
    "name": "ipython",
    "version": 3
   },
   "file_extension": ".py",
   "mimetype": "text/x-python",
   "name": "python",
   "nbconvert_exporter": "python",
   "pygments_lexer": "ipython3",
   "version": "3.10.12"
  }
 },
 "nbformat": 4,
 "nbformat_minor": 5
}
